{
 "cells": [
  {
   "cell_type": "code",
   "execution_count": 1,
   "id": "8f7307a4",
   "metadata": {},
   "outputs": [],
   "source": [
    "import sys"
   ]
  },
  {
   "cell_type": "code",
   "execution_count": 2,
   "id": "0b8e79f2",
   "metadata": {},
   "outputs": [
    {
     "name": "stdout",
     "output_type": "stream",
     "text": [
      "2017figure1... b4\n",
      "2017figure1... affa\n"
     ]
    }
   ],
   "source": [
    "import Ericson2017figure1 as G\n",
    "m = G.Ericson2017figure1()"
   ]
  },
  {
   "cell_type": "code",
   "execution_count": 3,
   "id": "c1e02cbe",
   "metadata": {},
   "outputs": [
    {
     "name": "stdout",
     "output_type": "stream",
     "text": [
      "{\"folder\": \"V1\", \"problem\": \"Ericson2017figure1\", \"fails\": 0, \"tests\": []}, \n"
     ]
    }
   ],
   "source": [
    "m.go('V1')"
   ]
  },
  {
   "cell_type": "code",
   "execution_count": 4,
   "id": "21c590a8",
   "metadata": {},
   "outputs": [
    {
     "name": "stdout",
     "output_type": "stream",
     "text": [
      "{\"folder\": \"V2\", \"problem\": \"Ericson2017figure1\", \"fails\": 4, \"tests\": [{\"figure\": \"Ericson2017figure1_3\", \"bad\": 1, \"issues\": [{\"msg\": \"error importing source code Ericson2017figure1_3\", \"ok\": false, \"actual\": \"(<class 'IndentationError'>, IndentationError('expected an indented block after function definition on line 1', ('/Users/bnr01a/Documents/data/projects_current/CODEXParsons/unit/./V2/Ericson2017figure1/Ericson2017figure1_3.py', 2, 1, 'sum = 0\\\\n', 2, 4)), <traceback object at 0x106013b40>)\", \"errortype\": \"import error\"}]}, {\"figure\": \"Ericson2017figure1_7\", \"bad\": 1, \"issues\": [{\"msg\": \"error running Ericson2017figure1_7\", \"ok\": false, \"actual\": \"(<class 'NameError'>, NameError(\\\"name 'numList' is not defined\\\"), <traceback object at 0x106014180>)\", \"errortype\": \"runtime error\"}]}, {\"figure\": \"Ericson2017figure1_16\", \"bad\": 1, \"issues\": [{\"msg\": \"error running Ericson2017figure1_16\", \"ok\": false, \"actual\": \"(<class 'NameError'>, NameError(\\\"name 'numList' is not defined\\\"), <traceback object at 0x1060171c0>)\", \"errortype\": \"runtime error\"}]}, {\"figure\": \"Ericson2017figure1_19\", \"bad\": 1, \"issues\": [{\"msg\": \"error importing source code Ericson2017figure1_19\", \"ok\": false, \"actual\": \"(<class 'IndentationError'>, IndentationError('expected an indented block after function definition on line 1', ('/Users/bnr01a/Documents/data/projects_current/CODEXParsons/unit/./V2/Ericson2017figure1/Ericson2017figure1_19.py', 2, 1, 'sum = 0\\\\n', 2, 4)), <traceback object at 0x106018100>)\", \"errortype\": \"import error\"}]}]}, \n"
     ]
    },
    {
     "name": "stderr",
     "output_type": "stream",
     "text": [
      "{'error': 'ERROR: problem with import  File: Ericson2017figure1_3', 'exception': (<class 'IndentationError'>, IndentationError('expected an indented block after function definition on line 1', ('/Users/bnr01a/Documents/data/projects_current/CODEXParsons/unit/./V2/Ericson2017figure1/Ericson2017figure1_3.py', 2, 1, 'sum = 0\\n', 2, 4)), <traceback object at 0x106013b40>)}\n",
      "{'error': 'ERROR: error running File: Ericson2017figure1_7', 'exception': (<class 'NameError'>, NameError(\"name 'numList' is not defined\"), <traceback object at 0x106014180>)}\n",
      "{'error': 'ERROR: error running File: Ericson2017figure1_16', 'exception': (<class 'NameError'>, NameError(\"name 'numList' is not defined\"), <traceback object at 0x1060171c0>)}\n",
      "{'error': 'ERROR: problem with import  File: Ericson2017figure1_19', 'exception': (<class 'IndentationError'>, IndentationError('expected an indented block after function definition on line 1', ('/Users/bnr01a/Documents/data/projects_current/CODEXParsons/unit/./V2/Ericson2017figure1/Ericson2017figure1_19.py', 2, 1, 'sum = 0\\n', 2, 4)), <traceback object at 0x106018100>)}\n"
     ]
    }
   ],
   "source": [
    "m.go('V2')"
   ]
  },
  {
   "cell_type": "code",
   "execution_count": 5,
   "id": "4f406f76",
   "metadata": {},
   "outputs": [
    {
     "name": "stdout",
     "output_type": "stream",
     "text": [
      "{\"folder\": \"V3\", \"problem\": \"Ericson2017figure1\", \"fails\": 5, \"tests\": [{\"figure\": \"Ericson2017figure1_3\", \"bad\": 1, \"issues\": [{\"msg\": \"error running Ericson2017figure1_3\", \"ok\": false, \"actual\": \"(<class 'NameError'>, NameError(\\\"name 'numList' is not defined\\\"), <traceback object at 0x1060541c0>)\", \"errortype\": \"runtime error\"}]}, {\"figure\": \"Ericson2017figure1_5\", \"bad\": 1, \"issues\": [{\"msg\": \"error running Ericson2017figure1_5\", \"ok\": false, \"actual\": \"(<class 'NameError'>, NameError(\\\"name 'numList' is not defined\\\"), <traceback object at 0x106054980>)\", \"errortype\": \"runtime error\"}]}, {\"figure\": \"Ericson2017figure1_7\", \"bad\": 1, \"issues\": [{\"msg\": \"error running Ericson2017figure1_7\", \"ok\": false, \"actual\": \"(<class 'NameError'>, NameError(\\\"name 'numList' is not defined\\\"), <traceback object at 0x106054e00>)\", \"errortype\": \"runtime error\"}]}, {\"figure\": \"Ericson2017figure1_11\", \"bad\": 1, \"issues\": [{\"msg\": \"error running Ericson2017figure1_11\", \"ok\": false, \"actual\": \"(<class 'NameError'>, NameError(\\\"name 'numList' is not defined\\\"), <traceback object at 0x106054240>)\", \"errortype\": \"runtime error\"}]}, {\"figure\": \"Ericson2017figure1_12\", \"bad\": 1, \"issues\": [{\"msg\": \"error running Ericson2017figure1_12\", \"ok\": false, \"actual\": \"(<class 'NameError'>, NameError(\\\"name 'numList' is not defined\\\"), <traceback object at 0x1060541c0>)\", \"errortype\": \"runtime error\"}]}]}, \n"
     ]
    },
    {
     "name": "stderr",
     "output_type": "stream",
     "text": [
      "{'error': 'ERROR: error running File: Ericson2017figure1_3', 'exception': (<class 'NameError'>, NameError(\"name 'numList' is not defined\"), <traceback object at 0x1060541c0>)}\n",
      "{'error': 'ERROR: error running File: Ericson2017figure1_5', 'exception': (<class 'NameError'>, NameError(\"name 'numList' is not defined\"), <traceback object at 0x106054980>)}\n",
      "{'error': 'ERROR: error running File: Ericson2017figure1_7', 'exception': (<class 'NameError'>, NameError(\"name 'numList' is not defined\"), <traceback object at 0x106054e00>)}\n",
      "{'error': 'ERROR: error running File: Ericson2017figure1_11', 'exception': (<class 'NameError'>, NameError(\"name 'numList' is not defined\"), <traceback object at 0x106054240>)}\n",
      "{'error': 'ERROR: error running File: Ericson2017figure1_12', 'exception': (<class 'NameError'>, NameError(\"name 'numList' is not defined\"), <traceback object at 0x1060541c0>)}\n"
     ]
    }
   ],
   "source": [
    "m.go('V3',0)\n"
   ]
  },
  {
   "cell_type": "code",
   "execution_count": 24,
   "id": "72b7085e",
   "metadata": {},
   "outputs": [],
   "source": [
    "# del sys.modules[\"Ericson2017figure1_19\"]"
   ]
  },
  {
   "cell_type": "code",
   "execution_count": null,
   "id": "c1224a48",
   "metadata": {},
   "outputs": [],
   "source": []
  }
 ],
 "metadata": {
  "kernelspec": {
   "display_name": "Python 3 (ipykernel)",
   "language": "python",
   "name": "python3"
  },
  "language_info": {
   "codemirror_mode": {
    "name": "ipython",
    "version": 3
   },
   "file_extension": ".py",
   "mimetype": "text/x-python",
   "name": "python",
   "nbconvert_exporter": "python",
   "pygments_lexer": "ipython3",
   "version": "3.10.9"
  }
 },
 "nbformat": 4,
 "nbformat_minor": 5
}
