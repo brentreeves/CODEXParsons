{
 "cells": [
  {
   "cell_type": "code",
   "execution_count": 1,
   "metadata": {},
   "outputs": [],
   "source": [
    "import pandas as pd\n",
    "import os\n",
    "import autopep8"
   ]
  },
  {
   "cell_type": "code",
   "execution_count": 2,
   "metadata": {},
   "outputs": [],
   "source": [
    "def read_file_to_str(filepath):\n",
    "  with open(filepath, 'r') as f:\n",
    "    return f.read()"
   ]
  },
  {
   "cell_type": "code",
   "execution_count": 3,
   "metadata": {},
   "outputs": [],
   "source": [
    "problem_solutions_path = 'data/solutions'\n",
    "problems = [os.path.splitext(filename)[0] for filename in os.listdir(problem_solutions_path)]\n",
    "\n",
    "problem_solutions = {}\n",
    "for problem in problems:\n",
    "    problem_solutions[problem] = read_file_to_str(f'{problem_solutions_path}/{problem}.py')"
   ]
  },
  {
   "cell_type": "code",
   "execution_count": 4,
   "metadata": {},
   "outputs": [
    {
     "data": {
      "text/plain": [
       "Index(['priming', 'extra_with_indentation_priming', 'scrambled_lines',\n",
       "       'prompt', 'codex_output', 'problem'],\n",
       "      dtype='object')"
      ]
     },
     "execution_count": 4,
     "metadata": {},
     "output_type": "execute_result"
    }
   ],
   "source": [
    "codex_solution_df = pd.read_csv('data/codex-solutions-2023-01-18.csv')\n",
    "codex_solution_df.columns"
   ]
  },
  {
   "cell_type": "markdown",
   "metadata": {},
   "source": [
    "Compute basic stats"
   ]
  },
  {
   "cell_type": "code",
   "execution_count": 5,
   "metadata": {},
   "outputs": [],
   "source": [
    "# extract lines from code into a set of whitespace-stripped lines\n",
    "def extract_lines(code: str):\n",
    "    return {x.strip() for x in code.strip().split('\\n') if x.strip() != ''}\n"
   ]
  },
  {
   "cell_type": "code",
   "execution_count": 6,
   "metadata": {},
   "outputs": [
    {
     "name": "stdout",
     "output_type": "stream",
     "text": [
      "V1 percentage of outputs matching solution: 11/240 = 0.04583\n",
      "V1 percentage of unwanted modifications: 33/240 = 0.13750\n",
      "\n",
      "V2 percentage of outputs matching solution: 0/0 = nan\n",
      "V2 percentage of unwanted modifications: 0/0 = nan\n",
      "\n",
      "V3 percentage of outputs matching solution: 17/240 = 0.07083\n",
      "V3 percentage of unwanted modifications: 31/240 = 0.12917\n",
      "\n",
      "V4 percentage of outputs matching solution: 20/240 = 0.08333\n",
      "V4 percentage of unwanted modifications: 29/240 = 0.12083\n",
      "\n",
      "V5 percentage of outputs matching solution: 16/240 = 0.06667\n",
      "V5 percentage of unwanted modifications: 28/240 = 0.11667\n",
      "\n",
      "V6 percentage of outputs matching solution: 14/240 = 0.05833\n",
      "V6 percentage of unwanted modifications: 29/240 = 0.12083\n",
      "\n",
      "V7 percentage of outputs matching solution: 17/240 = 0.07083\n",
      "V7 percentage of unwanted modifications: 26/240 = 0.10833\n",
      "\n",
      "V8 percentage of outputs matching solution: 19/240 = 0.07917\n",
      "V8 percentage of unwanted modifications: 39/240 = 0.16250\n",
      "\n",
      "V9 percentage of outputs matching solution: 17/240 = 0.07083\n",
      "V9 percentage of unwanted modifications: 33/240 = 0.13750\n",
      "\n",
      "V10 percentage of outputs matching solution: 19/240 = 0.07917\n",
      "V10 percentage of unwanted modifications: 30/240 = 0.12500\n",
      "\n",
      "V11 percentage of outputs matching solution: 17/240 = 0.07083\n",
      "V11 percentage of unwanted modifications: 33/240 = 0.13750\n",
      "\n",
      "V12 percentage of outputs matching solution: 15/240 = 0.06250\n",
      "V12 percentage of unwanted modifications: 31/240 = 0.12917\n",
      "\n",
      "V13 percentage of outputs matching solution: 13/240 = 0.05417\n",
      "V13 percentage of unwanted modifications: 35/240 = 0.14583\n",
      "\n",
      "V14 percentage of outputs matching solution: 17/240 = 0.07083\n",
      "V14 percentage of unwanted modifications: 45/240 = 0.18750\n",
      "\n"
     ]
    }
   ],
   "source": [
    "sdf = codex_solution_df # [s]olution [d]ata [f]rame\n",
    "sdf.priming.fillna('', inplace=True)\n",
    "for a, priming in enumerate(sdf.priming.unique()):\n",
    "    for b, extra_indent_priming in enumerate(sdf.extra_with_indentation_priming.unique()):\n",
    "        i = a * len(sdf.extra_with_indentation_priming.unique()) + b\n",
    "        df = sdf[(sdf.priming == priming) & (sdf.extra_with_indentation_priming == extra_indent_priming)].copy()\n",
    "        df['solution'] = df['problem'].apply(lambda problem: problem_solutions[problem])\n",
    "        df['output_matches_solution'] = df['codex_output'].str.strip() == df['solution'].str.strip()\n",
    "        codex_lines = df['codex_output'].apply(extract_lines)\n",
    "        correct_lines = df['solution'].apply(extract_lines)\n",
    "        df['unwanted_modification'] = correct_lines != codex_lines # TODO: handle distractors where appropriate\n",
    "\n",
    "        # output matches solution\n",
    "        oms = df.output_matches_solution\n",
    "        print(f'V{i+1} percentage of outputs matching solution: {oms.sum()}/{oms.count()} = {oms.mean():.5f}')\n",
    "\n",
    "        # unwanted modification (altered or added lines)\n",
    "        um = df.unwanted_modification\n",
    "        print(f'V{i+1} percentage of unwanted modifications: {um.sum()}/{um.count()} = {um.mean():.5f}')\n",
    "        print()\n",
    "        # df['altered_or_added_lines'] = codex_lines - correct_lines\n"
   ]
  },
  {
   "cell_type": "markdown",
   "metadata": {},
   "source": [
    "Basic stats using PEP8 formatted code"
   ]
  },
  {
   "cell_type": "code",
   "execution_count": 7,
   "metadata": {},
   "outputs": [
    {
     "name": "stdout",
     "output_type": "stream",
     "text": [
      "V1 percentage of outputs matching solution: 102/240 = 0.42500\n",
      "V1 percentage of unwanted modifications: 27/240 = 0.11250\n",
      "\n",
      "V2 percentage of outputs matching solution: 0/0 = nan\n",
      "V2 percentage of unwanted modifications: 0/0 = nan\n",
      "\n",
      "V3 percentage of outputs matching solution: 106/240 = 0.44167\n",
      "V3 percentage of unwanted modifications: 25/240 = 0.10417\n",
      "\n",
      "V4 percentage of outputs matching solution: 114/240 = 0.47500\n",
      "V4 percentage of unwanted modifications: 23/240 = 0.09583\n",
      "\n",
      "V5 percentage of outputs matching solution: 88/240 = 0.36667\n",
      "V5 percentage of unwanted modifications: 22/240 = 0.09167\n",
      "\n",
      "V6 percentage of outputs matching solution: 56/240 = 0.23333\n",
      "V6 percentage of unwanted modifications: 22/240 = 0.09167\n",
      "\n",
      "V7 percentage of outputs matching solution: 87/240 = 0.36250\n",
      "V7 percentage of unwanted modifications: 20/240 = 0.08333\n",
      "\n",
      "V8 percentage of outputs matching solution: 109/240 = 0.45417\n",
      "V8 percentage of unwanted modifications: 34/240 = 0.14167\n",
      "\n",
      "V9 percentage of outputs matching solution: 85/240 = 0.35417\n",
      "V9 percentage of unwanted modifications: 27/240 = 0.11250\n",
      "\n",
      "V10 percentage of outputs matching solution: 81/240 = 0.33750\n",
      "V10 percentage of unwanted modifications: 24/240 = 0.10000\n",
      "\n",
      "V11 percentage of outputs matching solution: 80/240 = 0.33333\n",
      "V11 percentage of unwanted modifications: 28/240 = 0.11667\n",
      "\n",
      "V12 percentage of outputs matching solution: 59/240 = 0.24583\n",
      "V12 percentage of unwanted modifications: 25/240 = 0.10417\n",
      "\n",
      "V13 percentage of outputs matching solution: 71/240 = 0.29583\n",
      "V13 percentage of unwanted modifications: 30/240 = 0.12500\n",
      "\n",
      "V14 percentage of outputs matching solution: 70/240 = 0.29167\n",
      "V14 percentage of unwanted modifications: 42/240 = 0.17500\n",
      "\n"
     ]
    }
   ],
   "source": [
    "sdf = codex_solution_df # [s]olution [d]ata [f]rame\n",
    "pep8_sdf = pd.DataFrame()\n",
    "sdf.priming.fillna('', inplace=True)\n",
    "for a, priming in enumerate(sdf.priming.unique()):\n",
    "    for b, extra_indent_priming in enumerate(sdf.extra_with_indentation_priming.unique()):\n",
    "        i = a * len(sdf.extra_with_indentation_priming.unique()) + b\n",
    "        df = sdf[(sdf.priming == priming) & (sdf.extra_with_indentation_priming == extra_indent_priming)].copy()\n",
    "        df['solution'] = df['problem'].apply(lambda problem: problem_solutions[problem])\n",
    "\n",
    "        # format code with autopep8 so that we can compare it without worrying about whitespace within lines\n",
    "        df['pep8_codex_output'] = df['codex_output'].apply(autopep8.fix_code)\n",
    "        df['pep8_solution'] = df['solution'].apply(autopep8.fix_code)\n",
    "        df['pep8_output_matches_solution'] = df['pep8_codex_output'] == df['pep8_solution']\n",
    "        codex_lines = df['pep8_codex_output'].apply(extract_lines)\n",
    "        correct_lines = df['pep8_solution'].apply(extract_lines)\n",
    "        df['pep8_unwanted_modification'] = correct_lines != codex_lines\n",
    "\n",
    "        # output matches solution\n",
    "        oms = df.pep8_output_matches_solution\n",
    "        print(f'V{i+1} percentage of outputs matching solution: {oms.sum()}/{oms.count()} = {oms.mean():.5f}')\n",
    "\n",
    "        # unwanted modification (altered or added lines)\n",
    "        um = df.pep8_unwanted_modification\n",
    "        print(f'V{i+1} percentage of unwanted modifications: {um.sum()}/{um.count()} = {um.mean():.5f}')\n",
    "        print()\n",
    "\n",
    "        df['pep8_altered_or_added_lines'] = codex_lines - correct_lines\n",
    "        pep8_sdf = pd.concat([pep8_sdf, df])"
   ]
  },
  {
   "cell_type": "markdown",
   "metadata": {},
   "source": [
    "Inspect altered lines"
   ]
  },
  {
   "cell_type": "code",
   "execution_count": 8,
   "metadata": {},
   "outputs": [
    {
     "name": "stdout",
     "output_type": "stream",
     "text": [
      "#Codex output:\n",
      "def check_guess(guess, target):\n",
      "    if guess < target:\n",
      "        return \"too low\"\n",
      "    elif guess == target:\n",
      "        return 'correct'\n",
      "    else:\n",
      "        return 'too high'\n",
      "\n",
      "#Solution:\n",
      "def check_guess(guess, target):\n",
      "    if guess < target:\n",
      "        return 'too low'\n",
      "    elif guess == target:\n",
      "        return 'correct'\n",
      "    else:\n",
      "        return 'too high'\n",
      "\n",
      "#Altered or added lines:\n",
      "{'return \"too low\"'}\n"
     ]
    }
   ],
   "source": [
    "df = pep8_sdf\n",
    "row = df[df.pep8_altered_or_added_lines.apply(len) > 0].iloc[0]\n",
    "\n",
    "print('#Codex output:')\n",
    "print(row['pep8_codex_output'])\n",
    "# print('#Prompt:')\n",
    "# print(row.prompt)\n",
    "print('#Solution:')\n",
    "print(row['pep8_solution'])\n",
    "print('#Altered or added lines:')\n",
    "print(row.pep8_altered_or_added_lines)"
   ]
  },
  {
   "cell_type": "markdown",
   "metadata": {},
   "source": [
    "Compare solutions and outputs"
   ]
  },
  {
   "cell_type": "code",
   "execution_count": 9,
   "metadata": {},
   "outputs": [
    {
     "name": "stdout",
     "output_type": "stream",
     "text": [
      "Ericson2017figure4\n",
      "#Codex output:\n",
      "def avgValuesInRange(numList, start, end):\n",
      "if (end - start + 1) >= 1:\n",
      "sum = 0\n",
      "for index in range(start,end+1):\n",
      "value = numList[index]\n",
      "sum = sum + value\n",
      "return sum / (end - start + 1)\n",
      "return 0\n",
      "\n",
      "#Solution:\n",
      "def avgValuesInRange(numList, start, end):\n",
      "\tsum = 0\n",
      "\tfor index in range(start,end+1):\n",
      "\t\tvalue = numList[index]\n",
      "\t\tsum = sum + value\n",
      "\tif (end - start + 1) >= 1:\n",
      "\t\treturn sum / (end - start + 1)\n",
      "\treturn 0\n",
      "\n"
     ]
    }
   ],
   "source": [
    "problem_i = 0\n",
    "output_i = -1\n",
    "row = df.iloc[output_i]\n",
    "print(row.problem)\n",
    "print('#Codex output:')\n",
    "print(row.codex_output)\n",
    "print('#Solution:')\n",
    "print(problem_solutions[row.problem])"
   ]
  },
  {
   "cell_type": "markdown",
   "metadata": {},
   "source": [
    "Quick test to verify Codex output correctness"
   ]
  },
  {
   "cell_type": "code",
   "execution_count": 10,
   "metadata": {},
   "outputs": [
    {
     "name": "stdout",
     "output_type": "stream",
     "text": [
      "2.25\n"
     ]
    },
    {
     "data": {
      "text/plain": [
       "2.25"
      ]
     },
     "execution_count": 10,
     "metadata": {},
     "output_type": "execute_result"
    }
   ],
   "source": [
    "def avgValuesInRange2(numList, start, end):\n",
    "\tsum = 0\n",
    "\tfor index in range(start,end-1):\n",
    "\t\tvalue = numList[index]\n",
    "\t\tsum = sum + value\n",
    "\tif (end - start + 1) >= 1:\n",
    "\t\treturn sum / (end - start + 1)\n",
    "\treturn 0\n",
    "\n",
    "def avgValuesInRange(numList, start, end):\n",
    "    if (end - start + 1) >= 1:\n",
    "        sum = 0\n",
    "        for index in range(start,end-1):\n",
    "            value = numList[index]\n",
    "            sum = sum + value\n",
    "        return sum / (end - start + 1)\n",
    "    return 0\n",
    "\n",
    "print(avgValuesInRange([1,2,3,6,5,6,7,8,9,10], 2, 5))\n",
    "avgValuesInRange2([1,2,3,6,5,6,7,8,9,10], 2, 5)"
   ]
  }
 ],
 "metadata": {
  "kernelspec": {
   "display_name": "Python 3 (ipykernel)",
   "language": "python",
   "name": "python3"
  },
  "language_info": {
   "codemirror_mode": {
    "name": "ipython",
    "version": 3
   },
   "file_extension": ".py",
   "mimetype": "text/x-python",
   "name": "python",
   "nbconvert_exporter": "python",
   "pygments_lexer": "ipython3",
   "version": "3.10.9"
  },
  "vscode": {
   "interpreter": {
    "hash": "7e347afc6683d482e95cbf63c88c76bb19d71d579aa6c02dcfa206389891b1fd"
   }
  }
 },
 "nbformat": 4,
 "nbformat_minor": 2
}
